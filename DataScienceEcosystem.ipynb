{
 "cells": [
  {
   "cell_type": "markdown",
   "id": "c466f3be",
   "metadata": {},
   "source": [
    "#Data Science Tools and Ecosystem"
   ]
  },
  {
   "cell_type": "markdown",
   "id": "b4ac093f",
   "metadata": {},
   "source": [
    "In this notebook, Data Science Tools and Ecosystem are summarized."
   ]
  },
  {
   "cell_type": "markdown",
   "id": "3503db36",
   "metadata": {},
   "source": [
    "Some of the popular languages that Data Scientists use are:<br>1)Python <br>2)R studio <br>3)SQL"
   ]
  },
  {
   "cell_type": "markdown",
   "id": "87add2d2",
   "metadata": {},
   "source": [
    "Some of the commonly used libraries used by Data Scientists include:<br>1)Pandas <br>2)Numpy <br>3)matplotlib <br>4)Seaborn\n"
   ]
  },
  {
   "cell_type": "markdown",
   "id": "9a16c02c",
   "metadata": {},
   "source": [
    "|Data Science Tools|\n",
    "|:-------------------|\n",
    "|Jupyter Notebook|\n",
    "|R studio|\n",
    "|Spyder|\n"
   ]
  },
  {
   "cell_type": "markdown",
   "id": "7fd00822",
   "metadata": {},
   "source": [
    "###Below are a few examples of evaluating arithmetic expressions in Python"
   ]
  },
  {
   "cell_type": "code",
   "execution_count": 1,
   "id": "67769959",
   "metadata": {},
   "outputs": [
    {
     "name": "stdout",
     "output_type": "stream",
     "text": [
      "17\n"
     ]
    }
   ],
   "source": [
    "print((3*4)+5)"
   ]
  },
  {
   "cell_type": "code",
   "execution_count": 2,
   "id": "0a0f548d",
   "metadata": {},
   "outputs": [
    {
     "name": "stdout",
     "output_type": "stream",
     "text": [
      "200 minutes is 3.3333333333333335 Hours\n"
     ]
    }
   ],
   "source": [
    "Minutes_to_Hours=200/60\n",
    "\"\"\"This will convert 200 minutes to hours by diving by 60\"\"\"\n",
    "print(\"200 minutes is %s Hours\" %Minutes_to_Hours)"
   ]
  },
  {
   "cell_type": "markdown",
   "id": "966b70d4",
   "metadata": {},
   "source": [
    "**Objectives:**\n",
    "<br>1)Data Science Tools\n",
    "<br>2)Popoular Languages of Data Science\n",
    "<br>3)Libraries used in Data Science\n",
    "<br>4)Example of Arithmetic Expression\n"
   ]
  },
  {
   "cell_type": "markdown",
   "id": "43be79d6",
   "metadata": {},
   "source": [
    "##Author<br> Rahul Hattaragi"
   ]
  },
  {
   "cell_type": "code",
   "execution_count": null,
   "id": "474ed2d7",
   "metadata": {},
   "outputs": [],
   "source": []
  }
 ],
 "metadata": {
  "kernelspec": {
   "display_name": "Python 3 (ipykernel)",
   "language": "python",
   "name": "python3"
  },
  "language_info": {
   "codemirror_mode": {
    "name": "ipython",
    "version": 3
   },
   "file_extension": ".py",
   "mimetype": "text/x-python",
   "name": "python",
   "nbconvert_exporter": "python",
   "pygments_lexer": "ipython3",
   "version": "3.9.13"
  }
 },
 "nbformat": 4,
 "nbformat_minor": 5
}
